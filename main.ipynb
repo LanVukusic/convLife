{
 "cells": [
  {
   "cell_type": "code",
   "execution_count": 107,
   "metadata": {},
   "outputs": [
    {
     "name": "stdout",
     "output_type": "stream",
     "text": [
      "The autoreload extension is already loaded. To reload it, use:\n",
      "  %reload_ext autoreload\n"
     ]
    }
   ],
   "source": [
    "from game_of_life import Game_of_life\n",
    "from autoencoder import ConvolutionalAutoencoder\n",
    "from fullycon import CullyConnCoder\n",
    "\n",
    "import torch.nn as nn\n",
    "import torch\n",
    "import tqdm\n",
    "import torch.optim as optim\n",
    "import copy\n",
    "\n",
    "# torch.backends.cuda.matmul.allow_tf32 = True\n",
    "# torch.backends.cudnn.allow_tf32 = True\n",
    "\n",
    "\n",
    "device = torch.device(\"cuda\" if torch.cuda.is_available() else \"cpu\")\n",
    "\n",
    "%load_ext autoreload\n",
    "%autoreload 2\n",
    "\n",
    "SIZE=16\n",
    "SIM_BATHC = 6\n",
    "ADVANCED_ENEI_PARAM = 0.0002 # THE LAN REGULARIZATION PARAMETER\n",
    "ENEIAN_BIASING = 0.3\n",
    "\n",
    "def generate_batch(batch_size, size, sims=SIM_BATHC, n_plus = 1, bias=0.5):\n",
    "    with torch.no_grad():\n",
    "        game = Game_of_life(size)\n",
    "        game.to(device)\n",
    "        # random binary noise of size size x size\n",
    "        prev_batch = torch.rand((batch_size, 1, size, size), device=device)\n",
    "        prev_batch = (prev_batch > bias).int()\n",
    "        batch = game(prev_batch)\n",
    "\n",
    "        for i in range(sims):\n",
    "            batch, prev_batch = game(batch), batch\n",
    "\n",
    "        for i in range(1, n_plus):\n",
    "            batch = game(batch)\n",
    "\n",
    "        return prev_batch, batch\n",
    "\n",
    "\n",
    "def cell_count_MSE(outputs, labels, input):\n",
    "    # count of dead cells in the output\n",
    "    output_alive_cells = torch.sum(input == 1, dim=(1,2,3)).float()\n",
    "    alive_cells = torch.sum(outputs == 1, dim=(1,2,3)).float()\n",
    "    dead_cells = torch.sum(outputs == 0, dim=(1,2,3)).float()\n",
    "\n",
    "    log_dead_cell  = torch.mean(torch.log(alive_cells / dead_cells + 1)) / (SIZE*SIZE)\n",
    "    # step_diff = torch.mean(input - outputs) # ADVANCED_ENEI_PARAM\n",
    "    # lanoid_fraction = torch.mean(torch.abs(alive_cells - output_alive_cells)) / (SIZE*SIZE)\n",
    "\n",
    "    mse_loss = nn.MSELoss()(outputs, labels)\n",
    "\n",
    "    loss = torch.add(mse_loss, ADVANCED_ENEI_PARAM * log_dead_cell )\n",
    "    return loss\n",
    "\n",
    "def train_model(epochs, lr=0.001, decay=0, lr_decay=1e-5):\n",
    "    # Use the ResNet18 when implemented\n",
    "    # net = ConvolutionalAutoencoder(SIZE)\n",
    "    net = CullyConnCoder(SIZE)\n",
    "    net.to(device)\n",
    "    net.train()\n",
    "\n",
    "    game = Game_of_life(SIZE)\n",
    "    game.to(device)\n",
    "\n",
    "    # Define the loss function\n",
    "    # criterion = nn.BCELoss(reduction='mean') \n",
    "    criterion = nn.MSELoss()\n",
    "    # criterion = cell_count_MSE\n",
    "\n",
    "    # criterion = nn.CrossEntropyLoss()\n",
    "    # Initialize the optimizer\n",
    "    optimizer = optim.Adam(net.parameters(), lr=lr, weight_decay=decay, eps=lr_decay)\n",
    "\n",
    "    losses = [20000]\n",
    "    best_model = None\n",
    "    # loss_ra = 0\n",
    "    for epoch in tqdm.tqdm(range(epochs)):\n",
    "        # Get the inputs; Data is a tuple of (images, labels)\n",
    "        inputs, labels = generate_batch(200, SIZE, SIM_BATHC, 2, ENEIAN_BIASING)\n",
    "\n",
    "        \n",
    "        # for i in range(5):\n",
    "        # Clear the saved gradients of the previous iteration\n",
    "        optimizer.zero_grad()\n",
    "        outputs = net(inputs)\n",
    "        # print(torch.min(outputs[0]), torch.max(outputs[0]))\n",
    "        \n",
    "        # # Calculate the loss value\n",
    "        loss = criterion(outputs.float(), labels.float())\n",
    "        if torch.min(torch.FloatTensor(losses).to(device)) > loss:\n",
    "            torch.save(net, 'model.pt')\n",
    "            # print('saved')\n",
    "        losses.append(loss.data.cpu().detach().numpy())\n",
    "        \n",
    "\n",
    "        # # Calculate the gradients using backpropagation\n",
    "        loss.backward()\n",
    "        # loss_ra += loss.data.cpu().detach().numpy()\n",
    "        # # Update the weights of the network using the chosen optimizer\n",
    "        # if epoch % 100 == 0:\n",
    "        #     print(outputs[0].detach().cpu().numpy())\n",
    "        # new_state = outputs.detach() < 0.5 \n",
    "        # inputs = new_state.float()\n",
    "        # labels = game(new_state).float()\n",
    "        \n",
    "        optimizer.step()\n",
    "        \n",
    "\n",
    "        if (epoch % 100) == 0:\n",
    "            # print(torch.sum(outputs[0] - labels[0]))\n",
    "            print(loss.data.cpu().detach().numpy())\n",
    "            # lr /= 1.1\n",
    "\n",
    "\n",
    "    # net.eval()\n",
    "    # test_bird_model(net,testloader)\n",
    "    net = torch.load('./model.pt')\n",
    "    net.eval()\n",
    "    return net, losses"
   ]
  },
  {
   "cell_type": "code",
   "execution_count": 108,
   "metadata": {},
   "outputs": [
    {
     "name": "stderr",
     "output_type": "stream",
     "text": [
      "  0%|          | 16/8000 [00:00<02:52, 46.30it/s]"
     ]
    },
    {
     "name": "stdout",
     "output_type": "stream",
     "text": [
      "0.04317253\n"
     ]
    },
    {
     "name": "stderr",
     "output_type": "stream",
     "text": [
      "  2%|▏         | 126/8000 [00:01<00:58, 134.74it/s]"
     ]
    },
    {
     "name": "stdout",
     "output_type": "stream",
     "text": [
      "0.019394107\n"
     ]
    },
    {
     "name": "stderr",
     "output_type": "stream",
     "text": [
      "  3%|▎         | 220/8000 [00:01<00:51, 149.87it/s]"
     ]
    },
    {
     "name": "stdout",
     "output_type": "stream",
     "text": [
      "0.018657777\n"
     ]
    },
    {
     "name": "stderr",
     "output_type": "stream",
     "text": [
      "  4%|▍         | 323/8000 [00:02<00:59, 129.06it/s]"
     ]
    },
    {
     "name": "stdout",
     "output_type": "stream",
     "text": [
      "0.013818774\n"
     ]
    },
    {
     "name": "stderr",
     "output_type": "stream",
     "text": [
      "  5%|▌         | 427/8000 [00:03<00:54, 139.90it/s]"
     ]
    },
    {
     "name": "stdout",
     "output_type": "stream",
     "text": [
      "0.013754028\n"
     ]
    },
    {
     "name": "stderr",
     "output_type": "stream",
     "text": [
      "  6%|▋         | 517/8000 [00:04<00:53, 139.80it/s]"
     ]
    },
    {
     "name": "stdout",
     "output_type": "stream",
     "text": [
      "0.025785774\n"
     ]
    },
    {
     "name": "stderr",
     "output_type": "stream",
     "text": [
      "  8%|▊         | 622/8000 [00:04<00:56, 130.10it/s]"
     ]
    },
    {
     "name": "stdout",
     "output_type": "stream",
     "text": [
      "0.0069973604\n"
     ]
    },
    {
     "name": "stderr",
     "output_type": "stream",
     "text": [
      "  9%|▉         | 720/8000 [00:05<01:07, 107.76it/s]"
     ]
    },
    {
     "name": "stdout",
     "output_type": "stream",
     "text": [
      "8.125923e-06\n"
     ]
    },
    {
     "name": "stderr",
     "output_type": "stream",
     "text": [
      " 10%|█         | 823/8000 [00:06<00:56, 126.90it/s]"
     ]
    },
    {
     "name": "stdout",
     "output_type": "stream",
     "text": [
      "1.969689e-06\n"
     ]
    },
    {
     "name": "stderr",
     "output_type": "stream",
     "text": [
      " 12%|█▏        | 923/8000 [00:07<00:51, 137.21it/s]"
     ]
    },
    {
     "name": "stdout",
     "output_type": "stream",
     "text": [
      "5.70236e-07\n"
     ]
    },
    {
     "name": "stderr",
     "output_type": "stream",
     "text": [
      " 13%|█▎        | 1020/8000 [00:08<00:53, 129.49it/s]"
     ]
    },
    {
     "name": "stdout",
     "output_type": "stream",
     "text": [
      "4.1168894e-07\n"
     ]
    },
    {
     "name": "stderr",
     "output_type": "stream",
     "text": [
      " 14%|█▍        | 1120/8000 [00:08<00:49, 140.09it/s]"
     ]
    },
    {
     "name": "stdout",
     "output_type": "stream",
     "text": [
      "1.458224e-07\n"
     ]
    },
    {
     "name": "stderr",
     "output_type": "stream",
     "text": [
      " 15%|█▌        | 1227/8000 [00:09<00:47, 141.71it/s]"
     ]
    },
    {
     "name": "stdout",
     "output_type": "stream",
     "text": [
      "4.266827e-08\n"
     ]
    },
    {
     "name": "stderr",
     "output_type": "stream",
     "text": [
      " 17%|█▋        | 1328/8000 [00:10<00:48, 137.63it/s]"
     ]
    },
    {
     "name": "stdout",
     "output_type": "stream",
     "text": [
      "3.8818012e-08\n"
     ]
    },
    {
     "name": "stderr",
     "output_type": "stream",
     "text": [
      " 18%|█▊        | 1418/8000 [00:11<00:45, 144.42it/s]"
     ]
    },
    {
     "name": "stdout",
     "output_type": "stream",
     "text": [
      "1.9846293e-08\n"
     ]
    },
    {
     "name": "stderr",
     "output_type": "stream",
     "text": [
      " 19%|█▉        | 1524/8000 [00:11<00:45, 143.58it/s]"
     ]
    },
    {
     "name": "stdout",
     "output_type": "stream",
     "text": [
      "2.2519082e-09\n"
     ]
    },
    {
     "name": "stderr",
     "output_type": "stream",
     "text": [
      " 20%|██        | 1615/8000 [00:12<00:44, 143.69it/s]"
     ]
    },
    {
     "name": "stdout",
     "output_type": "stream",
     "text": [
      "5.334024e-09\n"
     ]
    },
    {
     "name": "stderr",
     "output_type": "stream",
     "text": [
      " 22%|██▏       | 1722/8000 [00:13<00:42, 147.61it/s]"
     ]
    },
    {
     "name": "stdout",
     "output_type": "stream",
     "text": [
      "1.1862955e-09\n"
     ]
    },
    {
     "name": "stderr",
     "output_type": "stream",
     "text": [
      " 23%|██▎       | 1829/8000 [00:13<00:42, 144.88it/s]"
     ]
    },
    {
     "name": "stdout",
     "output_type": "stream",
     "text": [
      "9.142463e-11\n"
     ]
    },
    {
     "name": "stderr",
     "output_type": "stream",
     "text": [
      " 24%|██▍       | 1921/8000 [00:14<00:40, 149.50it/s]"
     ]
    },
    {
     "name": "stdout",
     "output_type": "stream",
     "text": [
      "6.092235e-10\n"
     ]
    },
    {
     "name": "stderr",
     "output_type": "stream",
     "text": [
      " 25%|██▌       | 2026/8000 [00:15<00:41, 145.60it/s]"
     ]
    },
    {
     "name": "stdout",
     "output_type": "stream",
     "text": [
      "2.6006589e-10\n"
     ]
    },
    {
     "name": "stderr",
     "output_type": "stream",
     "text": [
      " 26%|██▋       | 2116/8000 [00:15<00:40, 143.71it/s]"
     ]
    },
    {
     "name": "stdout",
     "output_type": "stream",
     "text": [
      "1.8734234e-10\n"
     ]
    },
    {
     "name": "stderr",
     "output_type": "stream",
     "text": [
      " 28%|██▊       | 2222/8000 [00:16<00:40, 141.03it/s]"
     ]
    },
    {
     "name": "stdout",
     "output_type": "stream",
     "text": [
      "1.03183524e-10\n"
     ]
    },
    {
     "name": "stderr",
     "output_type": "stream",
     "text": [
      " 29%|██▉       | 2324/8000 [00:17<00:41, 136.21it/s]"
     ]
    },
    {
     "name": "stdout",
     "output_type": "stream",
     "text": [
      "1.6576561e-11\n"
     ]
    },
    {
     "name": "stderr",
     "output_type": "stream",
     "text": [
      " 30%|███       | 2424/8000 [00:18<00:41, 135.18it/s]"
     ]
    },
    {
     "name": "stdout",
     "output_type": "stream",
     "text": [
      "3.173823e-10\n"
     ]
    },
    {
     "name": "stderr",
     "output_type": "stream",
     "text": [
      " 32%|███▏      | 2524/8000 [00:18<00:40, 134.53it/s]"
     ]
    },
    {
     "name": "stdout",
     "output_type": "stream",
     "text": [
      "1.0249229e-11\n"
     ]
    },
    {
     "name": "stderr",
     "output_type": "stream",
     "text": [
      " 33%|███▎      | 2623/8000 [00:19<00:39, 135.88it/s]"
     ]
    },
    {
     "name": "stdout",
     "output_type": "stream",
     "text": [
      "7.7999766e-11\n"
     ]
    },
    {
     "name": "stderr",
     "output_type": "stream",
     "text": [
      " 34%|███▍      | 2724/8000 [00:20<00:38, 136.68it/s]"
     ]
    },
    {
     "name": "stdout",
     "output_type": "stream",
     "text": [
      "3.4769826e-11\n"
     ]
    },
    {
     "name": "stderr",
     "output_type": "stream",
     "text": [
      " 35%|███▌      | 2824/8000 [00:21<00:38, 135.97it/s]"
     ]
    },
    {
     "name": "stdout",
     "output_type": "stream",
     "text": [
      "2.4225682e-12\n"
     ]
    },
    {
     "name": "stderr",
     "output_type": "stream",
     "text": [
      " 37%|███▋      | 2925/8000 [00:21<00:37, 135.39it/s]"
     ]
    },
    {
     "name": "stdout",
     "output_type": "stream",
     "text": [
      "4.8544675e-13\n"
     ]
    },
    {
     "name": "stderr",
     "output_type": "stream",
     "text": [
      " 38%|███▊      | 3028/8000 [00:22<00:35, 139.36it/s]"
     ]
    },
    {
     "name": "stdout",
     "output_type": "stream",
     "text": [
      "4.8868054e-12\n"
     ]
    },
    {
     "name": "stderr",
     "output_type": "stream",
     "text": [
      " 39%|███▉      | 3114/8000 [00:23<00:38, 125.67it/s]"
     ]
    },
    {
     "name": "stdout",
     "output_type": "stream",
     "text": [
      "8.399526e-12\n"
     ]
    },
    {
     "name": "stderr",
     "output_type": "stream",
     "text": [
      " 40%|████      | 3225/8000 [00:24<00:36, 129.20it/s]"
     ]
    },
    {
     "name": "stdout",
     "output_type": "stream",
     "text": [
      "1.3281083e-11\n"
     ]
    },
    {
     "name": "stderr",
     "output_type": "stream",
     "text": [
      " 42%|████▏     | 3321/8000 [00:24<00:35, 133.52it/s]"
     ]
    },
    {
     "name": "stdout",
     "output_type": "stream",
     "text": [
      "1.5188873e-12\n"
     ]
    },
    {
     "name": "stderr",
     "output_type": "stream",
     "text": [
      " 43%|████▎     | 3421/8000 [00:25<00:33, 138.06it/s]"
     ]
    },
    {
     "name": "stdout",
     "output_type": "stream",
     "text": [
      "1.1921036e-12\n"
     ]
    },
    {
     "name": "stderr",
     "output_type": "stream",
     "text": [
      " 44%|████▍     | 3526/8000 [00:26<00:30, 144.78it/s]"
     ]
    },
    {
     "name": "stdout",
     "output_type": "stream",
     "text": [
      "9.722171e-13\n"
     ]
    },
    {
     "name": "stderr",
     "output_type": "stream",
     "text": [
      " 45%|████▌     | 3616/8000 [00:26<00:30, 144.18it/s]"
     ]
    },
    {
     "name": "stdout",
     "output_type": "stream",
     "text": [
      "6.7040527e-12\n"
     ]
    },
    {
     "name": "stderr",
     "output_type": "stream",
     "text": [
      " 47%|████▋     | 3721/8000 [00:27<00:29, 143.41it/s]"
     ]
    },
    {
     "name": "stdout",
     "output_type": "stream",
     "text": [
      "1.8221536e-16\n"
     ]
    },
    {
     "name": "stderr",
     "output_type": "stream",
     "text": [
      " 48%|████▊     | 3826/8000 [00:28<00:29, 141.72it/s]"
     ]
    },
    {
     "name": "stdout",
     "output_type": "stream",
     "text": [
      "1.0933476e-14\n"
     ]
    },
    {
     "name": "stderr",
     "output_type": "stream",
     "text": [
      " 49%|████▉     | 3916/8000 [00:29<00:28, 143.60it/s]"
     ]
    },
    {
     "name": "stdout",
     "output_type": "stream",
     "text": [
      "4.068428e-12\n"
     ]
    },
    {
     "name": "stderr",
     "output_type": "stream",
     "text": [
      " 50%|█████     | 4021/8000 [00:29<00:28, 142.08it/s]"
     ]
    },
    {
     "name": "stdout",
     "output_type": "stream",
     "text": [
      "7.758768e-12\n"
     ]
    },
    {
     "name": "stderr",
     "output_type": "stream",
     "text": [
      " 52%|█████▏    | 4126/8000 [00:30<00:27, 142.51it/s]"
     ]
    },
    {
     "name": "stdout",
     "output_type": "stream",
     "text": [
      "8.915473e-13\n"
     ]
    },
    {
     "name": "stderr",
     "output_type": "stream",
     "text": [
      " 53%|█████▎    | 4216/8000 [00:31<00:26, 141.05it/s]"
     ]
    },
    {
     "name": "stdout",
     "output_type": "stream",
     "text": [
      "7.330264e-13\n"
     ]
    },
    {
     "name": "stderr",
     "output_type": "stream",
     "text": [
      " 54%|█████▍    | 4321/8000 [00:31<00:26, 141.35it/s]"
     ]
    },
    {
     "name": "stdout",
     "output_type": "stream",
     "text": [
      "3.6733854e-12\n"
     ]
    },
    {
     "name": "stderr",
     "output_type": "stream",
     "text": [
      " 55%|█████▌    | 4423/8000 [00:32<00:26, 137.24it/s]"
     ]
    },
    {
     "name": "stdout",
     "output_type": "stream",
     "text": [
      "1.5334993e-13\n"
     ]
    },
    {
     "name": "stderr",
     "output_type": "stream",
     "text": [
      " 57%|█████▋    | 4523/8000 [00:33<00:24, 139.29it/s]"
     ]
    },
    {
     "name": "stdout",
     "output_type": "stream",
     "text": [
      "3.13331e-14\n"
     ]
    },
    {
     "name": "stderr",
     "output_type": "stream",
     "text": [
      " 58%|█████▊    | 4622/8000 [00:34<00:25, 132.23it/s]"
     ]
    },
    {
     "name": "stdout",
     "output_type": "stream",
     "text": [
      "1.1747847e-12\n"
     ]
    },
    {
     "name": "stderr",
     "output_type": "stream",
     "text": [
      " 59%|█████▉    | 4722/8000 [00:34<00:24, 135.57it/s]"
     ]
    },
    {
     "name": "stdout",
     "output_type": "stream",
     "text": [
      "2.6577167e-12\n"
     ]
    },
    {
     "name": "stderr",
     "output_type": "stream",
     "text": [
      " 60%|██████    | 4818/8000 [00:35<00:25, 126.24it/s]"
     ]
    },
    {
     "name": "stdout",
     "output_type": "stream",
     "text": [
      "1.0647101e-13\n"
     ]
    },
    {
     "name": "stderr",
     "output_type": "stream",
     "text": [
      " 62%|██████▏   | 4928/8000 [00:36<00:23, 133.40it/s]"
     ]
    },
    {
     "name": "stdout",
     "output_type": "stream",
     "text": [
      "1.7938122e-13\n"
     ]
    },
    {
     "name": "stderr",
     "output_type": "stream",
     "text": [
      " 63%|██████▎   | 5027/8000 [00:37<00:22, 130.15it/s]"
     ]
    },
    {
     "name": "stdout",
     "output_type": "stream",
     "text": [
      "3.2741425e-12\n"
     ]
    },
    {
     "name": "stderr",
     "output_type": "stream",
     "text": [
      " 64%|██████▍   | 5121/8000 [00:37<00:23, 122.28it/s]"
     ]
    },
    {
     "name": "stdout",
     "output_type": "stream",
     "text": [
      "9.071216e-16\n"
     ]
    },
    {
     "name": "stderr",
     "output_type": "stream",
     "text": [
      " 65%|██████▌   | 5219/8000 [00:38<00:20, 133.41it/s]"
     ]
    },
    {
     "name": "stdout",
     "output_type": "stream",
     "text": [
      "8.7041756e-13\n"
     ]
    },
    {
     "name": "stderr",
     "output_type": "stream",
     "text": [
      " 66%|██████▋   | 5317/8000 [00:39<00:20, 129.42it/s]"
     ]
    },
    {
     "name": "stdout",
     "output_type": "stream",
     "text": [
      "2.7400305e-15\n"
     ]
    },
    {
     "name": "stderr",
     "output_type": "stream",
     "text": [
      " 68%|██████▊   | 5425/8000 [00:40<00:20, 125.50it/s]"
     ]
    },
    {
     "name": "stdout",
     "output_type": "stream",
     "text": [
      "4.063694e-15\n"
     ]
    },
    {
     "name": "stderr",
     "output_type": "stream",
     "text": [
      " 69%|██████▉   | 5524/8000 [00:40<00:17, 138.11it/s]"
     ]
    },
    {
     "name": "stdout",
     "output_type": "stream",
     "text": [
      "1.9166918e-13\n"
     ]
    },
    {
     "name": "stderr",
     "output_type": "stream",
     "text": [
      " 70%|███████   | 5624/8000 [00:41<00:17, 139.48it/s]"
     ]
    },
    {
     "name": "stdout",
     "output_type": "stream",
     "text": [
      "2.733369e-15\n"
     ]
    },
    {
     "name": "stderr",
     "output_type": "stream",
     "text": [
      " 72%|███████▏  | 5723/8000 [00:42<00:16, 137.42it/s]"
     ]
    },
    {
     "name": "stdout",
     "output_type": "stream",
     "text": [
      "6.1625704e-15\n"
     ]
    },
    {
     "name": "stderr",
     "output_type": "stream",
     "text": [
      " 73%|███████▎  | 5825/8000 [00:43<00:15, 139.43it/s]"
     ]
    },
    {
     "name": "stdout",
     "output_type": "stream",
     "text": [
      "3.0512813e-13\n"
     ]
    },
    {
     "name": "stderr",
     "output_type": "stream",
     "text": [
      " 74%|███████▍  | 5925/8000 [00:43<00:15, 138.26it/s]"
     ]
    },
    {
     "name": "stdout",
     "output_type": "stream",
     "text": [
      "6.692459e-14\n"
     ]
    },
    {
     "name": "stderr",
     "output_type": "stream",
     "text": [
      " 75%|███████▌  | 6024/8000 [00:44<00:14, 138.52it/s]"
     ]
    },
    {
     "name": "stdout",
     "output_type": "stream",
     "text": [
      "9.845631e-14\n"
     ]
    },
    {
     "name": "stderr",
     "output_type": "stream",
     "text": [
      " 77%|███████▋  | 6124/8000 [00:45<00:13, 139.05it/s]"
     ]
    },
    {
     "name": "stdout",
     "output_type": "stream",
     "text": [
      "1.124878e-14\n"
     ]
    },
    {
     "name": "stderr",
     "output_type": "stream",
     "text": [
      " 78%|███████▊  | 6222/8000 [00:46<00:12, 137.43it/s]"
     ]
    },
    {
     "name": "stdout",
     "output_type": "stream",
     "text": [
      "2.2300827e-13\n"
     ]
    },
    {
     "name": "stderr",
     "output_type": "stream",
     "text": [
      " 79%|███████▉  | 6320/8000 [00:46<00:12, 135.95it/s]"
     ]
    },
    {
     "name": "stdout",
     "output_type": "stream",
     "text": [
      "2.4420465e-14\n"
     ]
    },
    {
     "name": "stderr",
     "output_type": "stream",
     "text": [
      " 80%|████████  | 6418/8000 [00:47<00:12, 130.12it/s]"
     ]
    },
    {
     "name": "stdout",
     "output_type": "stream",
     "text": [
      "4.0731307e-15\n"
     ]
    },
    {
     "name": "stderr",
     "output_type": "stream",
     "text": [
      " 81%|████████▏ | 6517/8000 [00:48<00:11, 129.83it/s]"
     ]
    },
    {
     "name": "stdout",
     "output_type": "stream",
     "text": [
      "2.6911806e-15\n"
     ]
    },
    {
     "name": "stderr",
     "output_type": "stream",
     "text": [
      " 83%|████████▎ | 6622/8000 [00:49<00:11, 123.13it/s]"
     ]
    },
    {
     "name": "stdout",
     "output_type": "stream",
     "text": [
      "2.5798808e-14\n"
     ]
    },
    {
     "name": "stderr",
     "output_type": "stream",
     "text": [
      " 84%|████████▍ | 6715/8000 [00:49<00:10, 124.72it/s]"
     ]
    },
    {
     "name": "stdout",
     "output_type": "stream",
     "text": [
      "6.2549965e-15\n"
     ]
    },
    {
     "name": "stderr",
     "output_type": "stream",
     "text": [
      " 85%|████████▌ | 6821/8000 [00:50<00:09, 127.71it/s]"
     ]
    },
    {
     "name": "stdout",
     "output_type": "stream",
     "text": [
      "7.072121e-14\n"
     ]
    },
    {
     "name": "stderr",
     "output_type": "stream",
     "text": [
      " 87%|████████▋ | 6927/8000 [00:51<00:08, 126.53it/s]"
     ]
    },
    {
     "name": "stdout",
     "output_type": "stream",
     "text": [
      "1.5244056e-15\n"
     ]
    },
    {
     "name": "stderr",
     "output_type": "stream",
     "text": [
      " 88%|████████▊ | 7020/8000 [00:52<00:08, 117.43it/s]"
     ]
    },
    {
     "name": "stdout",
     "output_type": "stream",
     "text": [
      "7.499362e-14\n"
     ]
    },
    {
     "name": "stderr",
     "output_type": "stream",
     "text": [
      " 89%|████████▉ | 7127/8000 [00:53<00:06, 128.30it/s]"
     ]
    },
    {
     "name": "stdout",
     "output_type": "stream",
     "text": [
      "2.6600943e-15\n"
     ]
    },
    {
     "name": "stderr",
     "output_type": "stream",
     "text": [
      " 90%|█████████ | 7224/8000 [00:53<00:05, 134.82it/s]"
     ]
    },
    {
     "name": "stdout",
     "output_type": "stream",
     "text": [
      "6.403211e-16\n"
     ]
    },
    {
     "name": "stderr",
     "output_type": "stream",
     "text": [
      " 92%|█████████▏| 7322/8000 [00:54<00:05, 130.70it/s]"
     ]
    },
    {
     "name": "stdout",
     "output_type": "stream",
     "text": [
      "1.687539e-14\n"
     ]
    },
    {
     "name": "stderr",
     "output_type": "stream",
     "text": [
      " 93%|█████████▎| 7420/8000 [00:55<00:04, 133.92it/s]"
     ]
    },
    {
     "name": "stdout",
     "output_type": "stream",
     "text": [
      "1.45009e-14\n"
     ]
    },
    {
     "name": "stderr",
     "output_type": "stream",
     "text": [
      " 94%|█████████▍| 7517/8000 [00:56<00:03, 132.90it/s]"
     ]
    },
    {
     "name": "stdout",
     "output_type": "stream",
     "text": [
      "2.5424539e-12\n"
     ]
    },
    {
     "name": "stderr",
     "output_type": "stream",
     "text": [
      " 95%|█████████▌| 7615/8000 [00:56<00:02, 132.76it/s]"
     ]
    },
    {
     "name": "stdout",
     "output_type": "stream",
     "text": [
      "1.9028454e-07\n"
     ]
    },
    {
     "name": "stderr",
     "output_type": "stream",
     "text": [
      " 97%|█████████▋| 7722/8000 [00:57<00:02, 130.71it/s]"
     ]
    },
    {
     "name": "stdout",
     "output_type": "stream",
     "text": [
      "3.1371908e-07\n"
     ]
    },
    {
     "name": "stderr",
     "output_type": "stream",
     "text": [
      " 98%|█████████▊| 7819/8000 [00:58<00:01, 132.37it/s]"
     ]
    },
    {
     "name": "stdout",
     "output_type": "stream",
     "text": [
      "1.984729e-11\n"
     ]
    },
    {
     "name": "stderr",
     "output_type": "stream",
     "text": [
      " 99%|█████████▉| 7924/8000 [00:59<00:00, 121.20it/s]"
     ]
    },
    {
     "name": "stdout",
     "output_type": "stream",
     "text": [
      "1.5255799e-06\n"
     ]
    },
    {
     "name": "stderr",
     "output_type": "stream",
     "text": [
      "100%|██████████| 8000/8000 [00:59<00:00, 133.36it/s]\n"
     ]
    }
   ],
   "source": [
    "import matplotlib.pyplot as plt\n",
    "# torch.cuda.empty_cache()\n",
    "\n",
    "net,losses = train_model(8000, lr=0.013, decay=0, lr_decay=1e-5)\n",
    "# prosim delaj\n",
    "\n"
   ]
  },
  {
   "cell_type": "code",
   "execution_count": 109,
   "metadata": {},
   "outputs": [
    {
     "data": {
      "image/png": "[encoded data removed]",
      "text/plain": [
       "<Figure size 640x480 with 1 Axes>"
      ]
     },
     "metadata": {},
     "output_type": "display_data"
    }
   ],
   "source": [
    "# Plot logaritmic loss\n",
    "plt.plot(losses)\n",
    "plt.xlabel('Epoch')\n",
    "plt.ylabel('Loss')\n",
    "plt.yscale('log')\n",
    "plt.show()"
   ]
  },
  {
   "cell_type": "code",
   "execution_count": 112,
   "metadata": {},
   "outputs": [
    {
     "data": {
      "image/png": "[encoded data removed]",
      "text/plain": [
       "<Figure size 640x480 with 3 Axes>"
      ]
     },
     "metadata": {},
     "output_type": "display_data"
    },
    {
     "data": {
      "image/png": "[encoded data removed]",
      "text/plain": [
       "<Figure size 640x480 with 3 Axes>"
      ]
     },
     "metadata": {},
     "output_type": "display_data"
    },
    {
     "data": {
      "image/png": "[encoded data removed]",
      "text/plain": [
       "<Figure size 640x480 with 3 Axes>"
      ]
     },
     "metadata": {},
     "output_type": "display_data"
    },
    {
     "data": {
      "image/png": "[encoded data removed]",
      "text/plain": [
       "<Figure size 640x480 with 3 Axes>"
      ]
     },
     "metadata": {},
     "output_type": "display_data"
    },
    {
     "data": {
      "image/png": "[encoded data removed]",
      "text/plain": [
       "<Figure size 640x480 with 3 Axes>"
      ]
     },
     "metadata": {},
     "output_type": "display_data"
    }
   ],
   "source": [
    "#RANDOM TRIES\n",
    "batch, next= generate_batch(5, SIZE, SIM_BATHC, 2, ENEIAN_BIASING)\n",
    "out = net(batch).cpu().detach().numpy()\n",
    "# out = out > 0.5\n",
    "ba = batch.cpu().detach().numpy()\n",
    "ne = next.cpu().detach().numpy()\n",
    "\n",
    "for i in range(5):\n",
    "    ins = ba[i][0]\n",
    "    res = out[i][0]\n",
    "    nes = ne[i][0]\n",
    "    fix, (ax1, ax2, ax3) = plt.subplots(1, 3)\n",
    "    ax1.imshow(ins)\n",
    "    ax1.set_title(\"Input\")\n",
    "    ax2.imshow(res)\n",
    "    ax2.set_title(\"Output\")\n",
    "    ax3.imshow(nes)\n",
    "    ax3.set_title(\"LEGIT\")\n"
   ]
  },
  {
   "cell_type": "code",
   "execution_count": 29,
   "metadata": {},
   "outputs": [
    {
     "data": {
      "image/png": "[encoded data removed]",
      "text/plain": [
       "<Figure size 640x480 with 2 Axes>"
      ]
     },
     "metadata": {},
     "output_type": "display_data"
    },
    {
     "data": {
      "image/png": "[encoded data removed]",
      "text/plain": [
       "<Figure size 640x480 with 2 Axes>"
      ]
     },
     "metadata": {},
     "output_type": "display_data"
    },
    {
     "data": {
      "image/png": "[encoded data removed]",
      "text/plain": [
       "<Figure size 640x480 with 2 Axes>"
      ]
     },
     "metadata": {},
     "output_type": "display_data"
    },
    {
     "data": {
      "image/png": "[encoded data removed]",
      "text/plain": [
       "<Figure size 640x480 with 2 Axes>"
      ]
     },
     "metadata": {},
     "output_type": "display_data"
    },
    {
     "data": {
      "image/png": "[encoded data removed]",
      "text/plain": [
       "<Figure size 640x480 with 2 Axes>"
      ]
     },
     "metadata": {},
     "output_type": "display_data"
    }
   ],
   "source": [
    "L = 5\n",
    "out = generate_batch(L, SIZE, SIM_BATHC, 1, 0.3)\n",
    "for i in range(L):\n",
    "    ins = out[0][i][0].cpu().detach().numpy()\n",
    "    res = out[1][i][0].cpu().detach().numpy()\n",
    "    fix, (ax1, ax2) = plt.subplots(1, 2)\n",
    "    ax1.imshow(ins)\n",
    "    ax2.imshow(res)"
   ]
  },
  {
   "cell_type": "code",
   "execution_count": 89,
   "metadata": {},
   "outputs": [],
   "source": [
    "import pygame\n",
    "SIZE = 256\n",
    "GAME_SIZE = 4\n",
    "WAIT = 20\n",
    "\n",
    "calc_wait =round( WAIT / SIZE**0.5 ) \n",
    "\n",
    "def get_new(previous:torch.Tensor, net:torch.nn.Module):\n",
    "    with torch.no_grad():\n",
    "        tensor = net(previous)\n",
    "        return tensor, tensor.squeeze().cpu().detach().numpy() > 0.5\n",
    "\n",
    "def display_grid(grid, screen):\n",
    "    size = len(grid)\n",
    "    cell_size = GAME_SIZE\n",
    "    for i in range(size):\n",
    "        for j in range(size):\n",
    "            if grid[i][j] == 1:\n",
    "                pygame.draw.rect(screen, (255, 255, 255), (i*cell_size, j*cell_size, cell_size, cell_size))\n",
    "            else:\n",
    "                pygame.draw.rect(screen, (0, 0, 0), (i*cell_size, j*cell_size, cell_size, cell_size))\n",
    "    pygame.display.flip()\n",
    "\n",
    "first, second = generate_batch(1, SIZE, 15, 1, ENEIAN_BIASING)\n",
    "tensor, grid = get_new(first, net)\n",
    "pygame.init()\n",
    "screen = pygame.display.set_mode((SIZE*GAME_SIZE, SIZE*GAME_SIZE))\n",
    "\n",
    "running = True\n",
    "i = 0\n",
    "while running:\n",
    "    for event in pygame.event.get():\n",
    "        if event.type == pygame.QUIT:\n",
    "            running = False\n",
    "        if event.type == pygame.KEYDOWN:\n",
    "            if event.key == pygame.K_SPACE:\n",
    "                running = False\n",
    "        # r resetes game with new random grid\n",
    "        if event.type == pygame.KEYDOWN:\n",
    "            if event.key == pygame.K_r:\n",
    "                first, second = generate_batch(1, SIZE, 15, 1,ENEIAN_BIASING)\n",
    "                tensor, grid = get_new(first, net)\n",
    "        # plt.imshow(grid) and save it when S is pressed\n",
    "        if event.type == pygame.KEYDOWN:\n",
    "            if event.key == pygame.K_s:\n",
    "                plt.imshow(grid, cmap='gray')\n",
    "                plt.savefig(f\"batched_{i}.png\")\n",
    "    tensor, grid = get_new(tensor, net)\n",
    "    display_grid(grid, screen)\n",
    "    pygame.time.wait(calc_wait)\n",
    "    # if(tensor.sum() == 0 or tensor.sum() == SIZE*SIZE):\n",
    "    #     running = False\n",
    "    i += 1\n",
    "\n",
    "pygame.quit()"
   ]
  },
  {
   "cell_type": "code",
   "execution_count": 7,
   "metadata": {},
   "outputs": [],
   "source": [
    "pygame.quit()"
   ]
  }
 ],
 "metadata": {
  "kernelspec": {
   "display_name": "Python 3",
   "language": "python",
   "name": "python3"
  },
  "language_info": {
   "codemirror_mode": {
    "name": "ipython",
    "version": 3
   },
   "file_extension": ".py",
   "mimetype": "text/x-python",
   "name": "python",
   "nbconvert_exporter": "python",
   "pygments_lexer": "ipython3",
   "version": "3.10.12"
  }
 },
 "nbformat": 4,
 "nbformat_minor": 2
}
